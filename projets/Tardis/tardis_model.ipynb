{
 "cells": [
  {
   "cell_type": "markdown",
   "id": "869de159",
   "metadata": {},
   "source": [
    "Import dependance\n"
   ]
  },
  {
   "cell_type": "markdown",
   "id": "393c1e6d",
   "metadata": {},
   "source": []
  },
  {
   "cell_type": "code",
   "execution_count": null,
   "id": "1f436198",
   "metadata": {},
   "outputs": [],
   "source": [
    "import pandas as pd\n",
    "from sklearn.model_selection import train_test_split\n",
    "from sklearn.metrics import r2_score\n",
    "from sklearn.ensemble import RandomForestRegressor, GradientBoostingRegressor\n",
    "from sklearn.linear_model import LinearRegression\n",
    "import numpy as np\n",
    "import os\n",
    "import joblib\n",
    "import matplotlib.pyplot as plt"
   ]
  },
  {
   "cell_type": "code",
   "execution_count": null,
   "id": "37b2d388",
   "metadata": {},
   "outputs": [],
   "source": [
    "# Charger les données depuis le fichier CSV dans un DataFrame pandas\n",
    "df = pd.read_csv(\"cleaned_dataset.csv\")\n",
    "\n",
    "# Définir la liste des colonnes à utiliser comme variables explicatives (features)\n",
    "features = [\n",
    "    \"Average journey time\",\n",
    "    \"Number of scheduled trains\",\n",
    "    \"Number of cancelled trains\",\n",
    "    \"Number of trains delayed > 15min\",\n",
    "    \"Number of trains delayed > 30min\",\n",
    "    \"Number of trains delayed > 60min\",\n",
    "    \"Average delay of all trains at departure\",\n",
    "    \"Average delay of late trains at arrival\",\n",
    "    \"Average delays\",\n",
    "    \"Year\",\n",
    "]\n",
    "\n",
    "# Dictionnaire des cibles à prédire (targets) avec leur nom pour affichage\n",
    "targets = [\"Average delay of all trains at arrival\"]"
   ]
  },
  {
   "cell_type": "code",
   "execution_count": null,
   "id": "26e3e81c",
   "metadata": {},
   "outputs": [],
   "source": [
    "# Sélection des features et de la target\n",
    "X = df[features]\n",
    "y = df[targets[0]]\n",
    "\n",
    "# Supprimer toutes les lignes avec NaN dans X ou y\n",
    "data = pd.concat([X, y], axis=1)\n",
    "data = data.dropna()\n",
    "X = data[features]\n",
    "y = data[targets[0]]\n",
    "\n",
    "# On ne garde que les valeurs cibles positives\n",
    "mask = y >= 0\n",
    "X = X[mask]\n",
    "y = y[mask]\n",
    "\n",
    "# Transformation log1p sur la cible\n",
    "y = np.log1p(y)\n",
    "\n",
    "# Split train/test\n",
    "X_train, X_test, y_train, y_test = train_test_split(\n",
    "    X, y, test_size=0.2, random_state=70\n",
    ")"
   ]
  },
  {
   "cell_type": "code",
   "execution_count": null,
   "id": "0582610b",
   "metadata": {},
   "outputs": [],
   "source": [
    "future_year = 2026\n",
    "feature_values_2026 = {}\n",
    "for feat in features:\n",
    "    if feat == \"Year\":\n",
    "        feature_values_2026[feat] = future_year\n",
    "        continue\n",
    "    temp = df[[\"Year\", feat]].dropna()\n",
    "    if temp[\"Year\"].nunique() > 1:\n",
    "        reg = LinearRegression()\n",
    "        reg.fit(temp[[\"Year\"]], temp[feat])\n",
    "        feature_values_2026[feat] = reg.predict(pd.DataFrame({\"Year\": [future_year]}))[\n",
    "            0\n",
    "        ]\n",
    "    else:\n",
    "        feature_values_2026[feat] = temp[feat].mean()\n",
    "\n",
    "input_2026 = pd.DataFrame([feature_values_2026])[features]"
   ]
  },
  {
   "cell_type": "code",
   "execution_count": null,
   "id": "5b11ab7f",
   "metadata": {},
   "outputs": [],
   "source": [
    "gb_model = GradientBoostingRegressor(n_estimators=200, random_state=70)\n",
    "gb_model.fit(X_train, y_train)\n",
    "y_pred_gb = gb_model.predict(X_test)\n",
    "\n",
    "r2_gb = r2_score(y_test, y_pred_gb)\n",
    "print(f\"GradientBoostingRegressor R^2: {r2_gb:.3f}\")\n",
    "\n",
    "pred_log = gb_model.predict(input_2026)[0]\n",
    "pred_delay = np.expm1(pred_log)\n",
    "print(f\"Retard moyen prédit à l'arrivée pour 2026 (GBR) : {pred_delay:.2f} minutes\")"
   ]
  },
  {
   "cell_type": "code",
   "execution_count": null,
   "id": "d93d0c2b",
   "metadata": {},
   "outputs": [],
   "source": [
    "# RandomForestRegressor\n",
    "print(\"RandomForestRegressor\")\n",
    "random_forest = RandomForestRegressor(\n",
    "    n_jobs=-1,\n",
    "    random_state=70,\n",
    "    n_estimators=280,\n",
    "    max_depth=140,\n",
    "    min_samples_split=72,\n",
    ")\n",
    "random_forest.fit(X_train, y_train)\n",
    "y_pred_rfr = random_forest.predict(X_test)\n",
    "r2_rfr = r2_score(y_test, y_pred_rfr)\n",
    "print(f\"  random_state  70  estimator  280  max_depth  140  R^2 score {r2_rfr:.6f}\")"
   ]
  },
  {
   "cell_type": "code",
   "execution_count": null,
   "id": "69a71081",
   "metadata": {},
   "outputs": [],
   "source": [
    "os.makedirs(\"models\", exist_ok=True)\n",
    "joblib.dump(random_forest, \"models/rfr_model.joblib\")\n",
    "joblib.dump(gb_model, \"models/gb_model.joblib\")\n",
    "joblib.dump(features, \"models/features.joblib\")\n",
    "joblib.dump(reg, \"models/reg.joblib\")"
   ]
  },
  {
   "cell_type": "code",
   "execution_count": null,
   "id": "c00076d7",
   "metadata": {},
   "outputs": [],
   "source": [
    "plt.figure(figsize=(12, 6))\n",
    "plt.scatter(y_test, y_pred_gb, alpha=0.4)\n",
    "plt.plot([y_test.min(), y_test.max()], [y_test.min(), y_test.max()], \"r--\", lw=1.5)\n",
    "plt.xlabel(\"True Value\")\n",
    "plt.ylabel(\"Prédictions\")\n",
    "plt.title(\"GradientBoostingRegressor: Prédictions vs True Values\")\n",
    "plt.show()"
   ]
  },
  {
   "cell_type": "code",
   "execution_count": null,
   "id": "89a4dcc9",
   "metadata": {},
   "outputs": [],
   "source": [
    "plt.figure(figsize=(12, 6))\n",
    "plt.scatter(y_test, y_pred_rfr, alpha=0.4)\n",
    "plt.plot([y_test.min(), y_test.max()], [y_test.min(), y_test.max()], \"r--\", lw=1.5)\n",
    "plt.xlabel(\"True Value\")\n",
    "plt.ylabel(\"Prédictions\")\n",
    "plt.title(\"RandomForestRegressor: Prédictions vs True Values\")\n",
    "plt.show()"
   ]
  }
 ],
 "metadata": {
  "kernelspec": {
   "display_name": ".venv",
   "language": "python",
   "name": "python3"
  },
  "language_info": {
   "codemirror_mode": {
    "name": "ipython",
    "version": 3
   },
   "file_extension": ".py",
   "mimetype": "text/x-python",
   "name": "python",
   "nbconvert_exporter": "python",
   "pygments_lexer": "ipython3",
   "version": "3.12.3"
  }
 },
 "nbformat": 4,
 "nbformat_minor": 5
}
